{
  "cells": [
    {
      "cell_type": "markdown",
      "metadata": {},
      "source": [
        "#### Import\n",
        "**pandas** for data analysis;\n",
        "**matplotlib** for data visualization."
      ]
    },
    {
      "cell_type": "code",
      "execution_count": 8,
      "metadata": {
        "trusted": true
      },
      "outputs": [],
      "source": [
        "import pandas as pd\n",
        "import matplotlib.pyplot as plt"
      ]
    },
    {
      "cell_type": "markdown",
      "metadata": {
        "editable": true,
        "slideshow": {
          "slide_type": ""
        },
        "tags": []
      },
      "source": [
        "#### Load \n",
        "the **dataset** of client sentiment data"
      ]
    },
    {
      "cell_type": "code",
      "execution_count": null,
      "metadata": {
        "trusted": true
      },
      "outputs": [],
      "source": [
        "data = pd.read_csv('/drive/data/climatebert-climate-sentiment.csv')\n",
        "print(data.head())"
      ]
    },
    {
      "cell_type": "markdown",
      "metadata": {},
      "source": [
        "#### Summarize and plot\n",
        "the **distribution** of sentiment labels"
      ]
    },
    {
      "cell_type": "code",
      "execution_count": null,
      "metadata": {
        "trusted": true
      },
      "outputs": [],
      "source": [
        "label_distribution = data['label'].value_counts(normalize=True)\n",
        "ax = label_distribution.plot(kind='bar', color='#125740', edgecolor='black', ylim=(0, label_distribution.max() * 1.1))\n",
        "plt.xlabel('Sentiment Labels')\n",
        "plt.ylabel('Proportion')\n",
        "plt.title('Distribution of Sentiment Labels')\n",
        "plt.xticks(ticks=[0, 1, 2], labels=['Risk (0)', 'Neutral (1)', 'Opportunity (2)'], rotation=0)\n",
        "plt.grid(True, linestyle='--', linewidth=0.5)\n",
        "\n",
        "# Annotate bars with percentages\n",
        "for p in ax.patches:\n",
        "    ax.annotate(f\"{p.get_height():.2%}\", (p.get_x() + p.get_width() / 2., p.get_height()), ha='center', va='center', xytext=(0, 10), textcoords='offset points')\n",
        "\n",
        "plt.show()"
      ]
    },
    {
      "cell_type": "markdown",
      "metadata": {
        "trusted": true
      },
      "source": [
        "#### Gini Coefficient\n",
        "The **Gini coefficient** measures distribution inequality, ranging from **0** (perfect equality) to **1** (extreme inequality).  \n",
        "A **lower value** indicates balance, while a **higher value** shows disparity."
      ]
    },
    {
      "cell_type": "code",
      "execution_count": null,
      "metadata": {
        "trusted": true
      },
      "outputs": [],
      "source": [
        "import numpy as np\n",
        "\n",
        "# Calculate Gini coefficient\n",
        "def gini_coefficient(distribution):\n",
        "    distribution_sorted = np.sort(distribution)\n",
        "    n = len(distribution)\n",
        "    cumulative_values = np.cumsum(distribution_sorted)\n",
        "    return (2 / n) * np.sum((np.arange(1, n+1) - (n+1)/2) * distribution_sorted) / np.sum(distribution_sorted)\n",
        "\n",
        "gini = gini_coefficient(label_distribution.values)\n",
        "print(f\"Gini Coefficient: {gini:.2f}\")\n"
      ]
    },
    {
      "cell_type": "code",
      "execution_count": null,
      "metadata": {
        "trusted": true
      },
      "outputs": [],
      "source": [
        "# Define a threshold for determining if the distribution is balanced\n",
        "threshold = 0.15  # You can adjust this value as needed\n",
        "\n",
        "# Check if the Gini coefficient is below the threshold\n",
        "if gini < threshold:\n",
        "    print(\"Balanced Distribution: The sentiment label distribution is balanced.\")\n",
        "else:\n",
        "    print(\"Unbalanced Distribution: Consider rebalancing the dataset for better performance.\")\n"
      ]
    },
    {
      "cell_type": "code",
      "execution_count": null,
      "metadata": {
        "trusted": true
      },
      "outputs": [],
      "source": []
    }
  ],
  "metadata": {
    "kernelspec": {
      "display_name": "Python (Pyodide)",
      "language": "python",
      "name": "python"
    },
    "language_info": {
      "codemirror_mode": {
        "name": "python",
        "version": 3
      },
      "file_extension": ".py",
      "mimetype": "text/x-python",
      "name": "python",
      "nbconvert_exporter": "python",
      "pygments_lexer": "ipython3",
      "version": "3.8"
    }
  },
  "nbformat": 4,
  "nbformat_minor": 4
}
