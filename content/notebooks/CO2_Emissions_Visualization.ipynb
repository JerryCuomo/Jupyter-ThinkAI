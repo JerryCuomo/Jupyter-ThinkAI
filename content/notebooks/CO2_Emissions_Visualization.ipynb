{
 "cells": [
  {
   "cell_type": "markdown",
   "id": "21c534e2",
   "metadata": {},
   "source": [
    "\n",
    "#### CO₂ Emissions Visualization\n",
    "\n",
    "Visualize CO₂ emissions over time for a random selection of 10 countries.\n"
   ]
  },
  {
   "cell_type": "markdown",
   "id": "72df88b6",
   "metadata": {},
   "source": [
    "#### Install\n",
    "\n",
    "Seaborn simplifies data visualization with attractive statistical plots."
   ]
  },
  {
   "cell_type": "code",
   "execution_count": null,
   "id": "8d363fd8",
   "metadata": {},
   "outputs": [],
   "source": [
    "%pip install -q seaborn"
   ]
  },
  {
   "cell_type": "markdown",
   "id": "eba1208a",
   "metadata": {},
   "source": [
    "#### Import\n",
    "These packages provide numerical arrays, data manipulation, and visualization tools."
   ]
  },
  {
   "cell_type": "code",
   "execution_count": null,
   "id": "d08fb251",
   "metadata": {},
   "outputs": [],
   "source": [
    "import numpy as np  # Numerical computations, arrays\n",
    "import matplotlib.pyplot as plt  # Plotting and visualization\n",
    "import seaborn as sns  # Statistical data visualization\n",
    "import pandas as pd  # Data manipulation, analysis"
   ]
  },
  {
   "cell_type": "markdown",
   "id": "eaa83d52",
   "metadata": {},
   "source": [
    "#### Load Datasets\n",
    "\n",
    "Read the dataset containing annual CO₂ emissions per country."
   ]
  },
  {
   "cell_type": "code",
   "execution_count": null,
   "id": "77a8227e",
   "metadata": {},
   "outputs": [],
   "source": [
    "# Load the dataset\n",
    "co2_data = pd.read_csv('/drive/datasets/annual-co2-emissions-per-country.csv')\n",
    "co2_data.head()  # Display the first few rows of the dataset"
   ]
  },
  {
   "cell_type": "markdown",
   "id": "baec2daa",
   "metadata": {},
   "source": [
    "\n",
    "#### Randomly Select Countries\n",
    "\n",
    "Select 10 unique countries randomly for visualization.\n"
   ]
  },
  {
   "cell_type": "code",
   "execution_count": null,
   "id": "c0de86c4",
   "metadata": {},
   "outputs": [],
   "source": [
    "\n",
    "# Randomly selecting 10 unique countries/areas from the dataset\n",
    "np.random.seed(0)  # For reproducibility\n",
    "random_countries = np.random.choice(co2_data['Entity'].unique(), 10, replace=False)\n",
    "\n",
    "# Filtering the dataset for these countries\n",
    "filtered_data = co2_data[co2_data['Entity'].isin(random_countries)]\n",
    "filtered_data.head()  # Display the filtered dataset\n"
   ]
  },
  {
   "cell_type": "markdown",
   "id": "ed58db17",
   "metadata": {},
   "source": [
    "\n",
    "#### Visualize CO₂ Emissions\n",
    "\n",
    "Scatter plot of CO₂ emissions over time for selected countries.\n"
   ]
  },
  {
   "cell_type": "code",
   "execution_count": null,
   "id": "1bf40b01",
   "metadata": {},
   "outputs": [],
   "source": [
    "\n",
    "# Create a scatter plot for these countries\n",
    "plt.figure(figsize=(12, 8))\n",
    "sns.scatterplot(x='Year', y='Annual CO₂ emissions', hue='Entity', data=filtered_data, palette=\"viridis\")\n",
    "\n",
    "plt.title('CO₂ Emissions Over Time for Selected Countries')\n",
    "plt.xlabel('Year')\n",
    "plt.ylabel('Annual CO₂ Emissions (Tonnes)')\n",
    "plt.legend(title='Country', loc='upper left', fontsize='medium')\n",
    "plt.yscale('log')\n",
    "plt.grid(True)\n",
    "plt.show()\n"
   ]
  },
  {
   "cell_type": "markdown",
   "id": "706f5ac8",
   "metadata": {},
   "source": [
    "\n",
    "#### Conclusion\n",
    "\n",
    "Visualized CO₂ emissions over time for 10 randomly selected countries.\n"
   ]
  }
 ],
 "metadata": {
  "language_info": {
   "name": "python"
  }
 },
 "nbformat": 4,
 "nbformat_minor": 5
}
